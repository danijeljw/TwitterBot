{
 "cells": [
  {
   "cell_type": "markdown",
   "metadata": {},
   "source": [
    "# Bot Skeleton"
   ]
  },
  {
   "cell_type": "markdown",
   "metadata": {},
   "source": [
    "The next cell will authenticate your bot based on your keys and tokens. See the [Tweepy tutorial](https://github.com/comp-journalism/UMD-J479V-J779V-Spring2016/blob/master/Weekly/Week_5/Tweepy-skeleton.ipynb) for more details. "
   ]
  },
  {
   "cell_type": "code",
   "execution_count": 4,
   "metadata": {
    "collapsed": false
   },
   "outputs": [
    {
     "name": "stdout",
     "output_type": "stream",
     "text": [
      "2016-07-27 12:39:34 That Time 2 Bots Were Talking, and Bank of America Butted In https://t.co/79WcjCsHXH\n",
      "2016-07-22 21:00:24 That crazy moment when I was in Munich shopping center 4 days ago...\n",
      "2016-07-12 22:11:13 Magic Leap wants the entire world to be your computer display via @FortuneMagazine https://t.co/n7brqBSwXi\n",
      "2016-07-12 21:42:44 Magic Leap wants the entire world to be your computer display via @FortuneMagazine https://t.co/n7brqCa8lS\n",
      "2016-07-07 19:26:21 RT @uxpin: “A user interface is like a joke. If you have to explain it, it’s not that good” –Martin LeBlanc, Iconfinder #design https://t.c…\n",
      "2016-07-07 03:58:00 Welcome to the Bulls Wade 😜🏀\n",
      "2016-06-16 17:19:27 Russian Robot Escapes Its Lab, Hijinks Ensue - ​A robot escaped from a testing facility in Perm and https://t.co/NOaJBGJuRj via @PopMech\n",
      "2016-06-14 15:08:41 Request for @Disneyland for an attraction with 101 Dalmatians where you sit in room with 101 Dalmatian puppies and play #milliondollaridea\n",
      "2016-06-12 19:39:55 RT @thereaIbanksy: Its always easier to get forgiveness than permission\n",
      "2016-06-12 19:37:19 RT @thereaIbanksy: The Orlando shooting is the 173rd U.S. mass shooting in 164 days in 2016  https://t.co/dPK2GX3q4g\n",
      "2016-06-08 15:43:00 RT @magicleap: “This may sound a little strange but, it's almost like dreaming with your eyes open.” —Sam Miller #WordsFromWizards https://…\n",
      "2016-06-08 14:29:41 The @magicleap headset looks like @oficailDaftpunk helmet #favoritethings #futuretech #excited :)\n",
      "2016-06-08 14:27:06 Ugh I wish I was going to bonaroo\n",
      "2016-06-04 04:11:04 @Omgitsjiyoung I fucking DIED 😂😂😂\n",
      "2016-06-03 00:32:30 \"if hotdogs are sandwiches then cereal is soup\"\n",
      "2016-05-31 19:20:07 How South Dakota's Custer State Park Is Convincing Tech-Savvy Folks to Get Outdoors https://t.co/hgSdpFcux8\n",
      "2016-05-22 07:33:56 Waffles + Mac and cheese is an amazing combination\n",
      "2016-05-21 01:46:11 Eyebrows are the window to the face\n",
      "2016-05-18 15:06:04 What is Prophets Of Rage? https://t.co/vLsH4NFPXb via @kroq\n",
      "2016-05-18 14:33:23 What is Prophets Of Rage? https://t.co/LL6whs4nT8 via @kroq\n"
     ]
    },
    {
     "data": {
      "text/plain": [
       "Status(id_str='758793455380291584', coordinates=None, in_reply_to_screen_name=None, retweet_count=0, id=758793455380291584, entities={'user_mentions': [], 'symbols': [], 'hashtags': [], 'urls': []}, in_reply_to_user_id_str=None, author=User(id_str='758422215733944320', verified=False, time_zone=None, created_at=datetime.datetime(2016, 7, 27, 22, 2, 2), profile_text_color='333333', description='', name='Bot Test', profile_background_tile=False, favourites_count=0, profile_use_background_image=True, profile_background_color='F5F8FA', protected=False, default_profile_image=True, url=None, friends_count=0, location='', statuses_count=5, has_extended_profile=False, lang='en', followers_count=0, notifications=False, is_translation_enabled=False, screen_name='syrianrefugeeb1', geo_enabled=False, utc_offset=None, is_translator=False, _json={'id_str': '758422215733944320', 'time_zone': None, 'default_profile_image': True, 'profile_text_color': '333333', 'profile_link_color': '2B7BB9', 'id': 758422215733944320, 'description': '', 'name': 'Bot Test', 'has_extended_profile': False, 'profile_background_tile': False, 'favourites_count': 0, 'profile_use_background_image': True, 'profile_background_color': 'F5F8FA', 'protected': False, 'listed_count': 0, 'url': None, 'friends_count': 0, 'profile_background_image_url': None, 'statuses_count': 5, 'is_translator': False, 'lang': 'en', 'follow_request_sent': False, 'profile_sidebar_fill_color': 'DDEEF6', 'utc_offset': None, 'profile_sidebar_border_color': 'C0DEED', 'profile_background_image_url_https': None, 'contributors_enabled': False, 'verified': False, 'entities': {'description': {'urls': []}}, 'screen_name': 'syrianrefugeeb1', 'location': '', 'default_profile': True, 'profile_image_url_https': 'https://abs.twimg.com/sticky/default_profile_images/default_profile_6_normal.png', 'followers_count': 0, 'is_translation_enabled': False, 'geo_enabled': False, 'notifications': False, 'following': False, 'created_at': 'Wed Jul 27 22:02:02 +0000 2016', 'profile_image_url': 'http://abs.twimg.com/sticky/default_profile_images/default_profile_6_normal.png'}, profile_background_image_url_https=None, contributors_enabled=False, profile_sidebar_border_color='C0DEED', entities={'description': {'urls': []}}, listed_count=0, profile_background_image_url=None, default_profile=True, id=758422215733944320, profile_sidebar_fill_color='DDEEF6', profile_link_color='2B7BB9', follow_request_sent=False, _api=<tweepy.api.API object at 0x10465ed30>, following=False, profile_image_url='http://abs.twimg.com/sticky/default_profile_images/default_profile_6_normal.png', profile_image_url_https='https://abs.twimg.com/sticky/default_profile_images/default_profile_6_normal.png'), place=None, is_quote_status=False, source_url='https://taylorgandolfi.com', contributors=None, truncated=False, lang='en', geo=None, favorited=False, source='SyrianRefugeeBotTest', text='Tweet test', _json={'id_str': '758793455380291584', 'coordinates': None, 'in_reply_to_screen_name': None, 'retweet_count': 0, 'id': 758793455380291584, 'in_reply_to_user_id': None, 'in_reply_to_user_id_str': None, 'place': None, 'is_quote_status': False, 'contributors': None, 'truncated': False, 'lang': 'en', 'geo': None, 'favorited': False, 'source': '<a href=\"https://taylorgandolfi.com\" rel=\"nofollow\">SyrianRefugeeBotTest</a>', 'text': 'Tweet test', 'favorite_count': 0, 'entities': {'user_mentions': [], 'symbols': [], 'hashtags': [], 'urls': []}, 'in_reply_to_status_id': None, 'user': {'id_str': '758422215733944320', 'time_zone': None, 'default_profile_image': True, 'profile_text_color': '333333', 'profile_link_color': '2B7BB9', 'id': 758422215733944320, 'description': '', 'name': 'Bot Test', 'has_extended_profile': False, 'profile_background_tile': False, 'favourites_count': 0, 'profile_use_background_image': True, 'profile_background_color': 'F5F8FA', 'protected': False, 'listed_count': 0, 'url': None, 'friends_count': 0, 'profile_background_image_url': None, 'statuses_count': 5, 'is_translator': False, 'lang': 'en', 'follow_request_sent': False, 'profile_sidebar_fill_color': 'DDEEF6', 'utc_offset': None, 'profile_sidebar_border_color': 'C0DEED', 'profile_background_image_url_https': None, 'contributors_enabled': False, 'verified': False, 'entities': {'description': {'urls': []}}, 'screen_name': 'syrianrefugeeb1', 'location': '', 'default_profile': True, 'profile_image_url_https': 'https://abs.twimg.com/sticky/default_profile_images/default_profile_6_normal.png', 'followers_count': 0, 'is_translation_enabled': False, 'geo_enabled': False, 'notifications': False, 'following': False, 'created_at': 'Wed Jul 27 22:02:02 +0000 2016', 'profile_image_url': 'http://abs.twimg.com/sticky/default_profile_images/default_profile_6_normal.png'}, 'in_reply_to_status_id_str': None, 'created_at': 'Thu Jul 28 22:37:12 +0000 2016', 'retweeted': False}, favorite_count=0, in_reply_to_user_id=None, in_reply_to_status_id=None, user=User(id_str='758422215733944320', verified=False, time_zone=None, created_at=datetime.datetime(2016, 7, 27, 22, 2, 2), profile_text_color='333333', description='', name='Bot Test', profile_background_tile=False, favourites_count=0, profile_use_background_image=True, profile_background_color='F5F8FA', protected=False, default_profile_image=True, url=None, friends_count=0, location='', statuses_count=5, has_extended_profile=False, lang='en', followers_count=0, notifications=False, is_translation_enabled=False, screen_name='syrianrefugeeb1', geo_enabled=False, utc_offset=None, is_translator=False, _json={'id_str': '758422215733944320', 'time_zone': None, 'default_profile_image': True, 'profile_text_color': '333333', 'profile_link_color': '2B7BB9', 'id': 758422215733944320, 'description': '', 'name': 'Bot Test', 'has_extended_profile': False, 'profile_background_tile': False, 'favourites_count': 0, 'profile_use_background_image': True, 'profile_background_color': 'F5F8FA', 'protected': False, 'listed_count': 0, 'url': None, 'friends_count': 0, 'profile_background_image_url': None, 'statuses_count': 5, 'is_translator': False, 'lang': 'en', 'follow_request_sent': False, 'profile_sidebar_fill_color': 'DDEEF6', 'utc_offset': None, 'profile_sidebar_border_color': 'C0DEED', 'profile_background_image_url_https': None, 'contributors_enabled': False, 'verified': False, 'entities': {'description': {'urls': []}}, 'screen_name': 'syrianrefugeeb1', 'location': '', 'default_profile': True, 'profile_image_url_https': 'https://abs.twimg.com/sticky/default_profile_images/default_profile_6_normal.png', 'followers_count': 0, 'is_translation_enabled': False, 'geo_enabled': False, 'notifications': False, 'following': False, 'created_at': 'Wed Jul 27 22:02:02 +0000 2016', 'profile_image_url': 'http://abs.twimg.com/sticky/default_profile_images/default_profile_6_normal.png'}, profile_background_image_url_https=None, contributors_enabled=False, profile_sidebar_border_color='C0DEED', entities={'description': {'urls': []}}, listed_count=0, profile_background_image_url=None, default_profile=True, id=758422215733944320, profile_sidebar_fill_color='DDEEF6', profile_link_color='2B7BB9', follow_request_sent=False, _api=<tweepy.api.API object at 0x10465ed30>, following=False, profile_image_url='http://abs.twimg.com/sticky/default_profile_images/default_profile_6_normal.png', profile_image_url_https='https://abs.twimg.com/sticky/default_profile_images/default_profile_6_normal.png'), in_reply_to_status_id_str=None, _api=<tweepy.api.API object at 0x10465ed30>, created_at=datetime.datetime(2016, 7, 28, 22, 37, 12), retweeted=False)"
      ]
     },
     "execution_count": 4,
     "metadata": {},
     "output_type": "execute_result"
    }
   ],
   "source": [
    "import tweepy\n",
    "\n",
    "#Setup and authenticate Tweepy\n",
    "CONSUMER_KEY = \"EoCgZlaz4kbuX6qaWfPhkWQJs\"\n",
    "CONSUMER_SECRET = \"aYZvsKONPT7LwS8iQgBbowKNIlnIbQtwXQPyqtxcYqCgZ0rwDY\"\n",
    "ACCESS_TOKEN = \"758422215733944320-rlMTPLdz6em9AegePS6jV7145YC7zny\"\n",
    "ACCESS_TOKEN_SECRET = \"RN6x2AMQhjYTKURhZ3VDGxvC5Hr2y8oonzi4kkPCozE2d\"\n",
    "\n",
    "auth = tweepy.OAuthHandler(CONSUMER_KEY, CONSUMER_SECRET)\n",
    "auth.set_access_token(ACCESS_TOKEN, ACCESS_TOKEN_SECRET)\n",
    "api = tweepy.API(auth)\n",
    "\n",
    "taysvea_tweets = api.user_timeline('taysvea')\n",
    "for tweet in taysvea_tweets:\n",
    "    print( tweet.created_at, tweet.text)\n",
    "    \n",
    "api.update_status(status = \"Tweet test\")\n"
   ]
  },
  {
   "cell_type": "markdown",
   "metadata": {},
   "source": [
    "The next cell has a number of essential functions that allow your bot to listen to the twitter stream and then respond. The assignment involves fleshing out the editorial logic of the bot and writing code in the sections marked \"TODO\"."
   ]
  },
  {
   "cell_type": "code",
   "execution_count": 5,
   "metadata": {
    "collapsed": false
   },
   "outputs": [
    {
     "ename": "SyntaxError",
     "evalue": "Missing parentheses in call to 'print' (<ipython-input-5-b452b93a693c>, line 78)",
     "output_type": "error",
     "traceback": [
      "\u001b[0;36m  File \u001b[0;32m\"<ipython-input-5-b452b93a693c>\"\u001b[0;36m, line \u001b[0;32m78\u001b[0m\n\u001b[0;31m    print \"5\"\u001b[0m\n\u001b[0m            ^\u001b[0m\n\u001b[0;31mSyntaxError\u001b[0m\u001b[0;31m:\u001b[0m Missing parentheses in call to 'print'\n"
     ]
    }
   ],
   "source": [
    "import random\n",
    "import json\n",
    "import time\n",
    "\n",
    "# If debug_mode is True then the bot won't actually tweet. Set debug_mode = False for it to tweet. \n",
    "debug_mode = False\n",
    "\n",
    "# Functions that allow the bot to tweet or reply to tweets\n",
    "def tweet(status):\n",
    "    print (\"JUST TWEETED: \"), status\n",
    "    # Only *actually* send the tweet on twitter if we're not in debug mode\n",
    "    if debug_mode == False:\n",
    "        api.update_status(status)\n",
    "        \n",
    "def tweet_with_probability(status, probability):\n",
    "    # Change the probability of tweeting variable to affect how often the bot tweets\n",
    "    rand = random.random()\n",
    "    if rand <= probability:\n",
    "        print (\"JUST TWEETED: \"), status\n",
    "        # Only *actually* send the tweet on twitter if we're not in debug mode\n",
    "        if debug_mode == False:\n",
    "            api.update_status(status)\n",
    "        \n",
    "def tweet_reply(status, tweet_to_reply_to):\n",
    "    screen_name = tweet_to_reply_to[\"user\"][\"screen_name\"]\n",
    "    at = \".@\"+screen_name\n",
    "    reply_to_id = tweet_to_reply_to[\"id\"]\n",
    "    status = at + \" \" + status\n",
    "    print (\"JUST TWEETED: \"), status\n",
    "    # To actually have the bot tweet a status message uncomment the next line, it will send the tweet in response to the appropriate tweet. NOTE: be careful about spamming other people by reply to them. \n",
    "    # Only *actually* send the tweet on twitter if we're not in debug mode\n",
    "    if debug_mode == False:\n",
    "        api.update_status(status=status, in_reply_to_status_id=reply_to_id)\n",
    "    \n",
    "# We derive a class that is used to listen to the twitter stream\n",
    "class TwitterStreamListener(tweepy.StreamListener):\n",
    "    def __init__(self):\n",
    "        super(TwitterStreamListener, self).__init__()\n",
    "        self.num_tweets = 0 \n",
    "        self.api_count = 0\n",
    "        self.old_time = time.time()\n",
    "    \n",
    "    # Everytime the listener encounters a tweet that matches its filters it will trigger the on_data function\n",
    "    def on_data(self, data):\n",
    "        try:\n",
    "            print (\"tweet found\")\n",
    "            # Increment out counter of tweets\n",
    "            self.num_tweets = self.num_tweets + 1\n",
    "            \n",
    "            # The data variable represents the tweet that was detected by the stream listener\n",
    "            # Here we just parse it as JSON and put it in another variable. \n",
    "            tweet_data = json.loads(data)\n",
    "            \n",
    "            # Make sure the bot never interacts with itself\n",
    "            user = tweet_data[\"user\"][\"screen_name\"]\n",
    "            user_mentions = tweet_data['entities']['user_mentions']\n",
    "            user_mentions_list = []\n",
    "            for u in user_mentions:\n",
    "                user_mentions_list.append(u[\"screen_name\"])\n",
    "            if user == me.screen_name or me.screen_name in user_mentions_list:\n",
    "                # return without doing anything\n",
    "                return\n",
    "            \n",
    "            # TODO: Add your editorial logic here, some example filters are below\n",
    "            \n",
    "            # Possible filters\n",
    "            # Maybe you don't want to respond to someone's RT\n",
    "            #if tweet_data[\"retweeted\"] == True\n",
    "            #    return\n",
    "            \n",
    "            # Maybe you don't want to respond to a tweet without a URL\n",
    "            #if len(tweet_data[\"entities\"][\"urls\"]) == 0:\n",
    "            #    return\n",
    "            \n",
    "            # Maybe you only want to do something with every Nth tweet since otherwise the bot is tweeting too frequently\n",
    "            # e.g. Don't do anything unless this is the 5th tweet you've encountered\n",
    "            if self.num_tweets == 5:\n",
    "                print (\"5\")\n",
    "                self.bot_action(tweet_data)\n",
    "            \n",
    "        except Exception as e:\n",
    "            print (\"exception: \") + e\n",
    "            pass\n",
    "        \n",
    "        return True\n",
    "    \n",
    "    def api_limit_checker(self):\n",
    "        # API limits are reset every 15 minutes (900 seconds). This checks if we are outside a 15 min window \n",
    "        if time.time() - self.old_time > 900: \n",
    "            # Reset the timer of window since new window started & Twitter limits refreshed\n",
    "            self.old_time = time.time()\n",
    "            #Reset the api counter to 0 since new window started & Twitter limits refreshed\n",
    "            self.api_count = 0\n",
    "        else:\n",
    "            # The bot cannot tweet more than 140 times every 15 minutes (and you should REALLY consider not ever getting close to that as you may trigger Twitters spam detectors)\n",
    "            # The threshold below is set much more conservatively. It will only let you tweet 5 times in a 15 minute window\n",
    "            if self.api_count > 5:\n",
    "                print (\"Taking a break\")\n",
    "                # We put the code to sleep for 15-x minutes where x is the current time - old time (when the window started)... So if within 6 minutes we tweet more than 140 times, then the script will halt for the next 15-6=9 minutes until a new window starts\n",
    "                time.sleep(900 - (time.time() - self.old_time))\n",
    "                # Since we have slept through the remainder, a new window has started and we reset the API Count as well\n",
    "                self.api_count = 0\n",
    "                #Similarly as above, we reset the timer as well since new window has started \n",
    "                self.old_time = time.time()\n",
    "                \n",
    "    def bot_action(self, tweet_to_reply_to):\n",
    "        print (\"bot action\")\n",
    "        # NOTE: if you'd like your bot to reply, user the tweet_data variable above as the tweet_to_reply_to parameter for this function\n",
    "        # invoke the API limit checker code, whcih will put bot to sleep if it's too active\n",
    "        self.api_limit_checker()\n",
    "        \n",
    "        # reset the num_tweets counter\n",
    "        self.num_tweets = 0\n",
    "        \n",
    "        # Actually tweet something, just a dummy output right now\n",
    "        # TODO: Write code that constructs a text to tweet\n",
    "        tweet(\"Hello world\")\n",
    "        \n",
    "        # Increment API count\n",
    "        self.api_count = self.api_count + 1\n",
    "        \n",
    "        return \n",
    "    \n",
    "    def on_error(self, status):\n",
    "        print (status)\n",
    "\n",
    "\n",
    "def listen():\n",
    "    print (\"listening\")\n",
    "    listener = TwitterStreamListener()\n",
    "    stream = tweepy.Stream(auth, listener)\n",
    "    # track_object filters the twitter stream to capture data, can provide a hashtag, word, or screenname amongths other things. See documentation at: https://dev.twitter.com/streaming/overview/request-parameters\n",
    "    # Currently set to track all tweets mentioning nytimes.com\n",
    "    # TODO: update track_object based on what you want your bot to listen for\n",
    "    track_object = [\"nytimes com\"]\n",
    "    \n",
    "    try:\n",
    "        # Start filtering the twitter stream\n",
    "        stream.filter(track=track_object)\n",
    "        print (\"tried\")\n",
    "    except:\n",
    "        # do nothing in the event of an error\n",
    "        pass\n",
    "    return"
   ]
  },
  {
   "cell_type": "markdown",
   "metadata": {},
   "source": [
    "The next cell will actually run the bot and set it to listen to Twitter."
   ]
  },
  {
   "cell_type": "code",
   "execution_count": null,
   "metadata": {
    "collapsed": false
   },
   "outputs": [],
   "source": [
    "listen()"
   ]
  }
 ],
 "metadata": {
  "kernelspec": {
   "display_name": "Python [Root]",
   "language": "python",
   "name": "Python [Root]"
  },
  "language_info": {
   "codemirror_mode": {
    "name": "ipython",
    "version": 3
   },
   "file_extension": ".py",
   "mimetype": "text/x-python",
   "name": "python",
   "nbconvert_exporter": "python",
   "pygments_lexer": "ipython3",
   "version": "3.5.2"
  }
 },
 "nbformat": 4,
 "nbformat_minor": 0
}
